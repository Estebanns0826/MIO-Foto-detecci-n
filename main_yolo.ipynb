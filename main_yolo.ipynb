{
 "cells": [
  {
   "cell_type": "code",
   "execution_count": null,
   "metadata": {
    "vscode": {
     "languageId": "plaintext"
    }
   },
   "outputs": [],
   "source": [
    "import cv2\n",
    "from ultralytics import YOLO\n",
    "\n",
    "# Cargar el modelo preentrenado\n",
    "model = YOLO('yolov8n.pt')  # Puedes cambiar a 'yolov8s.pt', etc.\n",
    "\n",
    "# Ruta de la imagen\n",
    "image_path = 'images\\WhatsApp Image 2024-09-26 at 8.17.39 PM.jpeg'  # Reemplaza con la ruta a tu imagen\n",
    "\n",
    "# Detección de objetos en la imagen\n",
    "results = model(image_path)\n",
    "\n",
    "# Mostrar resultados\n",
    "results.show()  # Muestra la imagen con las detecciones\n",
    "\n",
    "# Obtener y mostrar resultados de las detecciones\n",
    "detecciones = results.pred[0]  # Detecciones en la primera imagen\n",
    "for deteccion in detecciones:\n",
    "    clase = int(deteccion[5])  # Clase detectada\n",
    "    confianza = deteccion[4]  # Confianza de la detección\n",
    "    coordenadas = deteccion[:4]  # Coordenadas [x1, y1, x2, y2]\n",
    "    print(f'Clase: {clase}, Confianza: {confianza:.2f}, Coordenadas: {coordenadas}')\n",
    "\n",
    "# Guardar imagen con detecciones\n",
    "results.save()  # Guarda la imagen con detecciones\n"
   ]
  }
 ],
 "metadata": {
  "language_info": {
   "name": "python"
  }
 },
 "nbformat": 4,
 "nbformat_minor": 2
}
